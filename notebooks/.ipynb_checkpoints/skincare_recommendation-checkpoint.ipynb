{
 "cells": [
  {
   "cell_type": "code",
   "execution_count": null,
   "id": "99880ce6",
   "metadata": {},
   "outputs": [],
   "source": [
    "import pandas as pd\n",
    "import torch\n",
    "from transformers import AutoTokenizer, AutoModelForCausalLM\n",
    "import streamlit as st"
   ]
  },
  {
   "cell_type": "code",
   "execution_count": null,
   "id": "477f7df5",
   "metadata": {},
   "outputs": [],
   "source": [
    "file_path = 'data/cosmetics.csv'  \n",
    "df = pd.read_csv(file_path)\n",
    "\n",
    "df['description'] = df.apply(lambda row: f\"Name: {row['Name']}. Brand: {row['Brand']}. Ingredients: {row['Ingredients']}. Price: ${row['Price']}.\", axis=1)\n",
    "\n",
    "df.to_csv('data/cosmetics_prepared.csv', index=False)\n",
    "\n",
    "df.head()"
   ]
  },
  {
   "cell_type": "code",
   "execution_count": null,
   "id": "0187d4de",
   "metadata": {},
   "outputs": [],
   "source": [
    "MODEL_NAME = \"distilgpt2\"\n",
    "\n",
    "tokenizer = AutoTokenizer.from_pretrained(MODEL_NAME, use_fast=False)\n",
    "model = AutoModelForCausalLM.from_pretrained(MODEL_NAME)\n",
    "device = torch.device(\"cuda\" if torch.cuda.is_available() else \"cpu\")\n",
    "model.to(device)"
   ]
  },
  {
   "cell_type": "code",
   "execution_count": null,
   "id": "e175f503",
   "metadata": {},
   "outputs": [],
   "source": [
    "def get_recommendations(skin_type, price_range, ingredient_pref, candidate_text, num_rec=3):\n",
    "    prompt = f\"Recommend {num_rec} skincare products for {skin_type} skin with {ingredient_pref} in the price range {price_range}.\"\n",
    "    \n",
    "    inputs = tokenizer(prompt, return_tensors=\"pt\", truncation=True, max_length=1024 - 100).to(device)\n",
    "    \n",
    "    output = model.generate(**inputs, max_new_tokens=50, do_sample=True, temperature=0.7)\n",
    "    generated_text = tokenizer.decode(output[0], skip_special_tokens=True)\n",
    "    \n",
    "    recommendation_text = generated_text[len(prompt):].strip()\n",
    "    \n",
    "    return recommendation_text"
   ]
  },
  {
   "cell_type": "code",
   "execution_count": null,
   "id": "b1525e35",
   "metadata": {},
   "outputs": [],
   "source": [
    "def main():\n",
    "    st.title('Skincare Products Recommendation System with DistilGPT2')\n",
    "    \n",
    "    # User Inputs\n",
    "    skin_type = st.selectbox('Select your skin type:', ('Combination', 'Dry', 'Normal', 'Oily', 'Sensitive'))\n",
    "    price_range = st.text_input('Enter price range (e.g., \"$15-$30\"):', \"$15-$30\")\n",
    "    ingredient_pref = st.text_input(\"Enter your preferred ingredient (optional):\", \"aloe\")\n",
    "    \n",
    "    if st.button('Get Recommendations'):\n",
    "        candidate_text = \"\\n\".join(df['description'].tolist()[:5])  # Use a subset for testing\n",
    "        recommendations = get_recommendations(skin_type, price_range, ingredient_pref, candidate_text)\n",
    "        \n",
    "        # Display recommendations\n",
    "        st.subheader(\"Recommendations\")\n",
    "        if recommendations.strip():\n",
    "            st.write(recommendations)\n",
    "        else:\n",
    "            st.write(\"No recommendations generated. Please try again.\")\n",
    "\n",
    "if __name__ == '__main__':\n",
    "    main()\n"
   ]
  }
 ],
 "metadata": {
  "kernelspec": {
   "display_name": "Python 3 (ipykernel)",
   "language": "python",
   "name": "python3"
  },
  "language_info": {
   "codemirror_mode": {
    "name": "ipython",
    "version": 3
   },
   "file_extension": ".py",
   "mimetype": "text/x-python",
   "name": "python",
   "nbconvert_exporter": "python",
   "pygments_lexer": "ipython3",
   "version": "3.11.5"
  }
 },
 "nbformat": 4,
 "nbformat_minor": 5
}
